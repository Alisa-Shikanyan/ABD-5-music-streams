{
  "nbformat": 4,
  "nbformat_minor": 0,
  "metadata": {
    "colab": {
      "provenance": [],
      "toc_visible": true
    },
    "kernelspec": {
      "name": "python3",
      "display_name": "Python 3"
    },
    "language_info": {
      "name": "python"
    }
  },
  "cells": [
    {
      "cell_type": "code",
      "execution_count": 3,
      "metadata": {
        "colab": {
          "base_uri": "https://localhost:8080/",
          "height": 432
        },
        "collapsed": true,
        "id": "d6JA8pDVgcR2",
        "outputId": "5fda7b3c-1fda-4135-8754-8e4528fa0cd3"
      },
      "outputs": [
        {
          "output_type": "execute_result",
          "data": {
            "text/plain": [
              "   Unnamed: 0    artist                                          track  \\\n",
              "0           0  Gorillaz                                 Feel Good Inc.   \n",
              "1           1  Gorillaz                                Rhinestone Eyes   \n",
              "2           2  Gorillaz  New Gold (feat. Tame Impala and Bootie Brown)   \n",
              "3           3  Gorillaz                             On Melancholy Hill   \n",
              "4           4  Gorillaz                                 Clint Eastwood   \n",
              "\n",
              "                                           album album_type  danceability  \\\n",
              "0                                     Demon Days      album         0.818   \n",
              "1                                  Plastic Beach      album         0.676   \n",
              "2  New Gold (feat. Tame Impala and Bootie Brown)     single         0.695   \n",
              "3                                  Plastic Beach      album         0.689   \n",
              "4                                       Gorillaz      album         0.663   \n",
              "\n",
              "   energy  key  loudness  speechiness  acousticness  instrumentalness  \\\n",
              "0   0.705    6    -6.679       0.1770      0.008360          0.002330   \n",
              "1   0.703    8    -5.815       0.0302      0.086900          0.000687   \n",
              "2   0.923    1    -3.930       0.0522      0.042500          0.046900   \n",
              "3   0.739    2    -5.810       0.0260      0.000015          0.509000   \n",
              "4   0.694   10    -8.627       0.1710      0.025300          0.000000   \n",
              "\n",
              "   liveness  valence    tempo      stream  duration_min  \n",
              "0    0.6130    0.772  138.559  1040234854      3.710667  \n",
              "1    0.0463    0.852   92.761   310083733      3.336217  \n",
              "2    0.1160    0.551  108.014    63063467      3.585833  \n",
              "3    0.0640    0.578  120.423   434663559      3.897783  \n",
              "4    0.0698    0.525  167.953   617259738      5.682000  "
            ],
            "text/html": [
              "\n",
              "  <div id=\"df-d28b0561-7025-4d2b-8c3e-c0dba30cd2ea\" class=\"colab-df-container\">\n",
              "    <div>\n",
              "<style scoped>\n",
              "    .dataframe tbody tr th:only-of-type {\n",
              "        vertical-align: middle;\n",
              "    }\n",
              "\n",
              "    .dataframe tbody tr th {\n",
              "        vertical-align: top;\n",
              "    }\n",
              "\n",
              "    .dataframe thead th {\n",
              "        text-align: right;\n",
              "    }\n",
              "</style>\n",
              "<table border=\"1\" class=\"dataframe\">\n",
              "  <thead>\n",
              "    <tr style=\"text-align: right;\">\n",
              "      <th></th>\n",
              "      <th>Unnamed: 0</th>\n",
              "      <th>artist</th>\n",
              "      <th>track</th>\n",
              "      <th>album</th>\n",
              "      <th>album_type</th>\n",
              "      <th>danceability</th>\n",
              "      <th>energy</th>\n",
              "      <th>key</th>\n",
              "      <th>loudness</th>\n",
              "      <th>speechiness</th>\n",
              "      <th>acousticness</th>\n",
              "      <th>instrumentalness</th>\n",
              "      <th>liveness</th>\n",
              "      <th>valence</th>\n",
              "      <th>tempo</th>\n",
              "      <th>stream</th>\n",
              "      <th>duration_min</th>\n",
              "    </tr>\n",
              "  </thead>\n",
              "  <tbody>\n",
              "    <tr>\n",
              "      <th>0</th>\n",
              "      <td>0</td>\n",
              "      <td>Gorillaz</td>\n",
              "      <td>Feel Good Inc.</td>\n",
              "      <td>Demon Days</td>\n",
              "      <td>album</td>\n",
              "      <td>0.818</td>\n",
              "      <td>0.705</td>\n",
              "      <td>6</td>\n",
              "      <td>-6.679</td>\n",
              "      <td>0.1770</td>\n",
              "      <td>0.008360</td>\n",
              "      <td>0.002330</td>\n",
              "      <td>0.6130</td>\n",
              "      <td>0.772</td>\n",
              "      <td>138.559</td>\n",
              "      <td>1040234854</td>\n",
              "      <td>3.710667</td>\n",
              "    </tr>\n",
              "    <tr>\n",
              "      <th>1</th>\n",
              "      <td>1</td>\n",
              "      <td>Gorillaz</td>\n",
              "      <td>Rhinestone Eyes</td>\n",
              "      <td>Plastic Beach</td>\n",
              "      <td>album</td>\n",
              "      <td>0.676</td>\n",
              "      <td>0.703</td>\n",
              "      <td>8</td>\n",
              "      <td>-5.815</td>\n",
              "      <td>0.0302</td>\n",
              "      <td>0.086900</td>\n",
              "      <td>0.000687</td>\n",
              "      <td>0.0463</td>\n",
              "      <td>0.852</td>\n",
              "      <td>92.761</td>\n",
              "      <td>310083733</td>\n",
              "      <td>3.336217</td>\n",
              "    </tr>\n",
              "    <tr>\n",
              "      <th>2</th>\n",
              "      <td>2</td>\n",
              "      <td>Gorillaz</td>\n",
              "      <td>New Gold (feat. Tame Impala and Bootie Brown)</td>\n",
              "      <td>New Gold (feat. Tame Impala and Bootie Brown)</td>\n",
              "      <td>single</td>\n",
              "      <td>0.695</td>\n",
              "      <td>0.923</td>\n",
              "      <td>1</td>\n",
              "      <td>-3.930</td>\n",
              "      <td>0.0522</td>\n",
              "      <td>0.042500</td>\n",
              "      <td>0.046900</td>\n",
              "      <td>0.1160</td>\n",
              "      <td>0.551</td>\n",
              "      <td>108.014</td>\n",
              "      <td>63063467</td>\n",
              "      <td>3.585833</td>\n",
              "    </tr>\n",
              "    <tr>\n",
              "      <th>3</th>\n",
              "      <td>3</td>\n",
              "      <td>Gorillaz</td>\n",
              "      <td>On Melancholy Hill</td>\n",
              "      <td>Plastic Beach</td>\n",
              "      <td>album</td>\n",
              "      <td>0.689</td>\n",
              "      <td>0.739</td>\n",
              "      <td>2</td>\n",
              "      <td>-5.810</td>\n",
              "      <td>0.0260</td>\n",
              "      <td>0.000015</td>\n",
              "      <td>0.509000</td>\n",
              "      <td>0.0640</td>\n",
              "      <td>0.578</td>\n",
              "      <td>120.423</td>\n",
              "      <td>434663559</td>\n",
              "      <td>3.897783</td>\n",
              "    </tr>\n",
              "    <tr>\n",
              "      <th>4</th>\n",
              "      <td>4</td>\n",
              "      <td>Gorillaz</td>\n",
              "      <td>Clint Eastwood</td>\n",
              "      <td>Gorillaz</td>\n",
              "      <td>album</td>\n",
              "      <td>0.663</td>\n",
              "      <td>0.694</td>\n",
              "      <td>10</td>\n",
              "      <td>-8.627</td>\n",
              "      <td>0.1710</td>\n",
              "      <td>0.025300</td>\n",
              "      <td>0.000000</td>\n",
              "      <td>0.0698</td>\n",
              "      <td>0.525</td>\n",
              "      <td>167.953</td>\n",
              "      <td>617259738</td>\n",
              "      <td>5.682000</td>\n",
              "    </tr>\n",
              "  </tbody>\n",
              "</table>\n",
              "</div>\n",
              "    <div class=\"colab-df-buttons\">\n",
              "\n",
              "  <div class=\"colab-df-container\">\n",
              "    <button class=\"colab-df-convert\" onclick=\"convertToInteractive('df-d28b0561-7025-4d2b-8c3e-c0dba30cd2ea')\"\n",
              "            title=\"Convert this dataframe to an interactive table.\"\n",
              "            style=\"display:none;\">\n",
              "\n",
              "  <svg xmlns=\"http://www.w3.org/2000/svg\" height=\"24px\" viewBox=\"0 -960 960 960\">\n",
              "    <path d=\"M120-120v-720h720v720H120Zm60-500h600v-160H180v160Zm220 220h160v-160H400v160Zm0 220h160v-160H400v160ZM180-400h160v-160H180v160Zm440 0h160v-160H620v160ZM180-180h160v-160H180v160Zm440 0h160v-160H620v160Z\"/>\n",
              "  </svg>\n",
              "    </button>\n",
              "\n",
              "  <style>\n",
              "    .colab-df-container {\n",
              "      display:flex;\n",
              "      gap: 12px;\n",
              "    }\n",
              "\n",
              "    .colab-df-convert {\n",
              "      background-color: #E8F0FE;\n",
              "      border: none;\n",
              "      border-radius: 50%;\n",
              "      cursor: pointer;\n",
              "      display: none;\n",
              "      fill: #1967D2;\n",
              "      height: 32px;\n",
              "      padding: 0 0 0 0;\n",
              "      width: 32px;\n",
              "    }\n",
              "\n",
              "    .colab-df-convert:hover {\n",
              "      background-color: #E2EBFA;\n",
              "      box-shadow: 0px 1px 2px rgba(60, 64, 67, 0.3), 0px 1px 3px 1px rgba(60, 64, 67, 0.15);\n",
              "      fill: #174EA6;\n",
              "    }\n",
              "\n",
              "    .colab-df-buttons div {\n",
              "      margin-bottom: 4px;\n",
              "    }\n",
              "\n",
              "    [theme=dark] .colab-df-convert {\n",
              "      background-color: #3B4455;\n",
              "      fill: #D2E3FC;\n",
              "    }\n",
              "\n",
              "    [theme=dark] .colab-df-convert:hover {\n",
              "      background-color: #434B5C;\n",
              "      box-shadow: 0px 1px 3px 1px rgba(0, 0, 0, 0.15);\n",
              "      filter: drop-shadow(0px 1px 2px rgba(0, 0, 0, 0.3));\n",
              "      fill: #FFFFFF;\n",
              "    }\n",
              "  </style>\n",
              "\n",
              "    <script>\n",
              "      const buttonEl =\n",
              "        document.querySelector('#df-d28b0561-7025-4d2b-8c3e-c0dba30cd2ea button.colab-df-convert');\n",
              "      buttonEl.style.display =\n",
              "        google.colab.kernel.accessAllowed ? 'block' : 'none';\n",
              "\n",
              "      async function convertToInteractive(key) {\n",
              "        const element = document.querySelector('#df-d28b0561-7025-4d2b-8c3e-c0dba30cd2ea');\n",
              "        const dataTable =\n",
              "          await google.colab.kernel.invokeFunction('convertToInteractive',\n",
              "                                                    [key], {});\n",
              "        if (!dataTable) return;\n",
              "\n",
              "        const docLinkHtml = 'Like what you see? Visit the ' +\n",
              "          '<a target=\"_blank\" href=https://colab.research.google.com/notebooks/data_table.ipynb>data table notebook</a>'\n",
              "          + ' to learn more about interactive tables.';\n",
              "        element.innerHTML = '';\n",
              "        dataTable['output_type'] = 'display_data';\n",
              "        await google.colab.output.renderOutput(dataTable, element);\n",
              "        const docLink = document.createElement('div');\n",
              "        docLink.innerHTML = docLinkHtml;\n",
              "        element.appendChild(docLink);\n",
              "      }\n",
              "    </script>\n",
              "  </div>\n",
              "\n",
              "\n",
              "    <div id=\"df-79bafb25-400f-4dce-aa92-e2058ad0e38f\">\n",
              "      <button class=\"colab-df-quickchart\" onclick=\"quickchart('df-79bafb25-400f-4dce-aa92-e2058ad0e38f')\"\n",
              "                title=\"Suggest charts\"\n",
              "                style=\"display:none;\">\n",
              "\n",
              "<svg xmlns=\"http://www.w3.org/2000/svg\" height=\"24px\"viewBox=\"0 0 24 24\"\n",
              "     width=\"24px\">\n",
              "    <g>\n",
              "        <path d=\"M19 3H5c-1.1 0-2 .9-2 2v14c0 1.1.9 2 2 2h14c1.1 0 2-.9 2-2V5c0-1.1-.9-2-2-2zM9 17H7v-7h2v7zm4 0h-2V7h2v10zm4 0h-2v-4h2v4z\"/>\n",
              "    </g>\n",
              "</svg>\n",
              "      </button>\n",
              "\n",
              "<style>\n",
              "  .colab-df-quickchart {\n",
              "      --bg-color: #E8F0FE;\n",
              "      --fill-color: #1967D2;\n",
              "      --hover-bg-color: #E2EBFA;\n",
              "      --hover-fill-color: #174EA6;\n",
              "      --disabled-fill-color: #AAA;\n",
              "      --disabled-bg-color: #DDD;\n",
              "  }\n",
              "\n",
              "  [theme=dark] .colab-df-quickchart {\n",
              "      --bg-color: #3B4455;\n",
              "      --fill-color: #D2E3FC;\n",
              "      --hover-bg-color: #434B5C;\n",
              "      --hover-fill-color: #FFFFFF;\n",
              "      --disabled-bg-color: #3B4455;\n",
              "      --disabled-fill-color: #666;\n",
              "  }\n",
              "\n",
              "  .colab-df-quickchart {\n",
              "    background-color: var(--bg-color);\n",
              "    border: none;\n",
              "    border-radius: 50%;\n",
              "    cursor: pointer;\n",
              "    display: none;\n",
              "    fill: var(--fill-color);\n",
              "    height: 32px;\n",
              "    padding: 0;\n",
              "    width: 32px;\n",
              "  }\n",
              "\n",
              "  .colab-df-quickchart:hover {\n",
              "    background-color: var(--hover-bg-color);\n",
              "    box-shadow: 0 1px 2px rgba(60, 64, 67, 0.3), 0 1px 3px 1px rgba(60, 64, 67, 0.15);\n",
              "    fill: var(--button-hover-fill-color);\n",
              "  }\n",
              "\n",
              "  .colab-df-quickchart-complete:disabled,\n",
              "  .colab-df-quickchart-complete:disabled:hover {\n",
              "    background-color: var(--disabled-bg-color);\n",
              "    fill: var(--disabled-fill-color);\n",
              "    box-shadow: none;\n",
              "  }\n",
              "\n",
              "  .colab-df-spinner {\n",
              "    border: 2px solid var(--fill-color);\n",
              "    border-color: transparent;\n",
              "    border-bottom-color: var(--fill-color);\n",
              "    animation:\n",
              "      spin 1s steps(1) infinite;\n",
              "  }\n",
              "\n",
              "  @keyframes spin {\n",
              "    0% {\n",
              "      border-color: transparent;\n",
              "      border-bottom-color: var(--fill-color);\n",
              "      border-left-color: var(--fill-color);\n",
              "    }\n",
              "    20% {\n",
              "      border-color: transparent;\n",
              "      border-left-color: var(--fill-color);\n",
              "      border-top-color: var(--fill-color);\n",
              "    }\n",
              "    30% {\n",
              "      border-color: transparent;\n",
              "      border-left-color: var(--fill-color);\n",
              "      border-top-color: var(--fill-color);\n",
              "      border-right-color: var(--fill-color);\n",
              "    }\n",
              "    40% {\n",
              "      border-color: transparent;\n",
              "      border-right-color: var(--fill-color);\n",
              "      border-top-color: var(--fill-color);\n",
              "    }\n",
              "    60% {\n",
              "      border-color: transparent;\n",
              "      border-right-color: var(--fill-color);\n",
              "    }\n",
              "    80% {\n",
              "      border-color: transparent;\n",
              "      border-right-color: var(--fill-color);\n",
              "      border-bottom-color: var(--fill-color);\n",
              "    }\n",
              "    90% {\n",
              "      border-color: transparent;\n",
              "      border-bottom-color: var(--fill-color);\n",
              "    }\n",
              "  }\n",
              "</style>\n",
              "\n",
              "      <script>\n",
              "        async function quickchart(key) {\n",
              "          const quickchartButtonEl =\n",
              "            document.querySelector('#' + key + ' button');\n",
              "          quickchartButtonEl.disabled = true;  // To prevent multiple clicks.\n",
              "          quickchartButtonEl.classList.add('colab-df-spinner');\n",
              "          try {\n",
              "            const charts = await google.colab.kernel.invokeFunction(\n",
              "                'suggestCharts', [key], {});\n",
              "          } catch (error) {\n",
              "            console.error('Error during call to suggestCharts:', error);\n",
              "          }\n",
              "          quickchartButtonEl.classList.remove('colab-df-spinner');\n",
              "          quickchartButtonEl.classList.add('colab-df-quickchart-complete');\n",
              "        }\n",
              "        (() => {\n",
              "          let quickchartButtonEl =\n",
              "            document.querySelector('#df-79bafb25-400f-4dce-aa92-e2058ad0e38f button');\n",
              "          quickchartButtonEl.style.display =\n",
              "            google.colab.kernel.accessAllowed ? 'block' : 'none';\n",
              "        })();\n",
              "      </script>\n",
              "    </div>\n",
              "    </div>\n",
              "  </div>\n"
            ],
            "application/vnd.google.colaboratory.intrinsic+json": {
              "type": "dataframe",
              "variable_name": "spotify",
              "summary": "{\n  \"name\": \"spotify\",\n  \"rows\": 17968,\n  \"fields\": [\n    {\n      \"column\": \"Unnamed: 0\",\n      \"properties\": {\n        \"dtype\": \"number\",\n        \"std\": 5984,\n        \"min\": 0,\n        \"max\": 20717,\n        \"num_unique_values\": 17968,\n        \"samples\": [\n          9292,\n          8723,\n          2094\n        ],\n        \"semantic_type\": \"\",\n        \"description\": \"\"\n      }\n    },\n    {\n      \"column\": \"artist\",\n      \"properties\": {\n        \"dtype\": \"category\",\n        \"num_unique_values\": 2028,\n        \"samples\": [\n          \"Armaan Malik\",\n          \"Summer Cem\",\n          \"FLETCHER\"\n        ],\n        \"semantic_type\": \"\",\n        \"description\": \"\"\n      }\n    },\n    {\n      \"column\": \"track\",\n      \"properties\": {\n        \"dtype\": \"string\",\n        \"num_unique_values\": 15559,\n        \"samples\": [\n          \"Never Gonna Not Dance Again\",\n          \"This I Promise You\",\n          \"A Meu Favor\"\n        ],\n        \"semantic_type\": \"\",\n        \"description\": \"\"\n      }\n    },\n    {\n      \"column\": \"album\",\n      \"properties\": {\n        \"dtype\": \"string\",\n        \"num_unique_values\": 10600,\n        \"samples\": [\n          \"Lupe Fiasco's Food & Liquor\",\n          \"Private Collection\",\n          \"O Fant\\u00e1stico Mundo De Nattan (Ao Vivo)\"\n        ],\n        \"semantic_type\": \"\",\n        \"description\": \"\"\n      }\n    },\n    {\n      \"column\": \"album_type\",\n      \"properties\": {\n        \"dtype\": \"category\",\n        \"num_unique_values\": 2,\n        \"samples\": [\n          \"single\",\n          \"album\"\n        ],\n        \"semantic_type\": \"\",\n        \"description\": \"\"\n      }\n    },\n    {\n      \"column\": \"danceability\",\n      \"properties\": {\n        \"dtype\": \"number\",\n        \"std\": 0.14944551753613103,\n        \"min\": 0.217,\n        \"max\": 0.975,\n        \"num_unique_values\": 753,\n        \"samples\": [\n          0.22,\n          0.518\n        ],\n        \"semantic_type\": \"\",\n        \"description\": \"\"\n      }\n    },\n    {\n      \"column\": \"energy\",\n      \"properties\": {\n        \"dtype\": \"number\",\n        \"std\": 0.1917378965406835,\n        \"min\": 0.0907,\n        \"max\": 0.997,\n        \"num_unique_values\": 916,\n        \"samples\": [\n          0.908,\n          0.0971\n        ],\n        \"semantic_type\": \"\",\n        \"description\": \"\"\n      }\n    },\n    {\n      \"column\": \"key\",\n      \"properties\": {\n        \"dtype\": \"number\",\n        \"std\": 3,\n        \"min\": 0,\n        \"max\": 11,\n        \"num_unique_values\": 12,\n        \"samples\": [\n          5,\n          7\n        ],\n        \"semantic_type\": \"\",\n        \"description\": \"\"\n      }\n    },\n    {\n      \"column\": \"loudness\",\n      \"properties\": {\n        \"dtype\": \"number\",\n        \"std\": 3.1987466287026396,\n        \"min\": -30.893,\n        \"max\": -0.007,\n        \"num_unique_values\": 8277,\n        \"samples\": [\n          -11.025,\n          -12.435\n        ],\n        \"semantic_type\": \"\",\n        \"description\": \"\"\n      }\n    },\n    {\n      \"column\": \"speechiness\",\n      \"properties\": {\n        \"dtype\": \"number\",\n        \"std\": 0.09409976573713663,\n        \"min\": 0.022,\n        \"max\": 0.64,\n        \"num_unique_values\": 1195,\n        \"samples\": [\n          0.0535,\n          0.309\n        ],\n        \"semantic_type\": \"\",\n        \"description\": \"\"\n      }\n    },\n    {\n      \"column\": \"acousticness\",\n      \"properties\": {\n        \"dtype\": \"number\",\n        \"std\": 0.2666698603767023,\n        \"min\": 1.77e-06,\n        \"max\": 0.995,\n        \"num_unique_values\": 3035,\n        \"samples\": [\n          0.0544,\n          0.0704\n        ],\n        \"semantic_type\": \"\",\n        \"description\": \"\"\n      }\n    },\n    {\n      \"column\": \"instrumentalness\",\n      \"properties\": {\n        \"dtype\": \"number\",\n        \"std\": 0.1427089838861645,\n        \"min\": 0.0,\n        \"max\": 0.978,\n        \"num_unique_values\": 3714,\n        \"samples\": [\n          7.18e-05,\n          0.129\n        ],\n        \"semantic_type\": \"\",\n        \"description\": \"\"\n      }\n    },\n    {\n      \"column\": \"liveness\",\n      \"properties\": {\n        \"dtype\": \"number\",\n        \"std\": 0.16595588047234738,\n        \"min\": 0.0145,\n        \"max\": 1.0,\n        \"num_unique_values\": 1502,\n        \"samples\": [\n          0.739,\n          0.07\n        ],\n        \"semantic_type\": \"\",\n        \"description\": \"\"\n      }\n    },\n    {\n      \"column\": \"valence\",\n      \"properties\": {\n        \"dtype\": \"number\",\n        \"std\": 0.23602425559406276,\n        \"min\": 0.0307,\n        \"max\": 0.993,\n        \"num_unique_values\": 1154,\n        \"samples\": [\n          0.249,\n          0.457\n        ],\n        \"semantic_type\": \"\",\n        \"description\": \"\"\n      }\n    },\n    {\n      \"column\": \"tempo\",\n      \"properties\": {\n        \"dtype\": \"number\",\n        \"std\": 28.563234129935662,\n        \"min\": 37.114,\n        \"max\": 203.006,\n        \"num_unique_values\": 13142,\n        \"samples\": [\n          93.035,\n          171.131\n        ],\n        \"semantic_type\": \"\",\n        \"description\": \"\"\n      }\n    },\n    {\n      \"column\": \"stream\",\n      \"properties\": {\n        \"dtype\": \"number\",\n        \"std\": 253395854,\n        \"min\": 6574,\n        \"max\": 3386520288,\n        \"num_unique_values\": 16532,\n        \"samples\": [\n          19767666,\n          27399977\n        ],\n        \"semantic_type\": \"\",\n        \"description\": \"\"\n      }\n    },\n    {\n      \"column\": \"duration_min\",\n      \"properties\": {\n        \"dtype\": \"number\",\n        \"std\": 0.8350399852881323,\n        \"min\": 1.2705666666666666,\n        \"max\": 5.8693333333333335,\n        \"num_unique_values\": 12927,\n        \"samples\": [\n          1.9564166666666667,\n          3.43435\n        ],\n        \"semantic_type\": \"\",\n        \"description\": \"\"\n      }\n    }\n  ]\n}"
            }
          },
          "metadata": {},
          "execution_count": 3
        }
      ],
      "source": [
        "import pandas as pd\n",
        "import seaborn as sns\n",
        "import numpy as np\n",
        "import matplotlib.pyplot as plt\n",
        "from scipy import stats as st\n",
        "spotify = pd.read_csv('/content/drive/MyDrive/Colab Notebooks/HSE/spotify.csv')\n",
        "spotify.head()"
      ]
    },
    {
      "cell_type": "markdown",
      "source": [
        "### **Часть 3: Проверка гипотез**"
      ],
      "metadata": {
        "id": "iPlYkhHwg1up"
      }
    },
    {
      "cell_type": "markdown",
      "source": [
        "В связи с тем, что альбомы (а также отдельные треки, входящие в них) и синглы имеют разные виды продвижения, можем предположить, что на число стримов влияет данный параметр (\"album_type\"). Чаще всего альбомы имеют большее продвижение среди слушателей, чем синглы, поэтому также предположим, что у треков, входящих в альбомы, число стримов будет выше.\n",
        "\n",
        "Влияние типа альбома на число стримов будем проверять с помощью одного из статистических тестов, а предположение о более высоких значениях целевой переменной у альбомных треков - с помощью визуализации."
      ],
      "metadata": {
        "id": "uXTtjSk-g3np"
      }
    },
    {
      "cell_type": "markdown",
      "source": [
        "Проверка гипотезы: число стримов у треков, входящих в альбом, и треков, выпущенных синглом, различается.\n",
        "\n",
        "```\n",
        "H_0: Число стримов (stream) для треков, входящих в альбом = число стримов (stream) для треков, выпущенных синглом\n",
        "H_1: Число стримов (stream) для треков, входящих в альбом ≠ число стримов (stream) для треков, выпущенных синглом\n",
        "alpha = 0.05\n",
        "```"
      ],
      "metadata": {
        "id": "cUaPw1vbg4XO"
      }
    },
    {
      "cell_type": "code",
      "source": [
        "album = spotify[spotify['album_type']=='album']\n",
        "single = spotify[spotify['album_type']=='single']"
      ],
      "metadata": {
        "id": "saFxNB1Bg6tZ"
      },
      "execution_count": 4,
      "outputs": []
    },
    {
      "cell_type": "markdown",
      "source": [
        "Чтобы понять, какой статистический тест нам нужно использовать для проверки гипотезы, проверим наши данные на нормальность с помощью критерия Шапиро — Уилка, а также сравним их дисперсии с помощью критерия Левене."
      ],
      "metadata": {
        "id": "3h8At9B_g8nn"
      }
    },
    {
      "cell_type": "code",
      "source": [
        "alpha = 0.05\n",
        "shapiro_test_album = st.shapiro(album['stream'])\n",
        "print(shapiro_test_album)\n",
        "if shapiro_test_album.pvalue < alpha:\n",
        "    print('Отвергаем нулевую гипотезу о нормальном распределении данных')\n",
        "else:\n",
        "    print('Не получилось отвергнуть нулевую гипотезу. Данные распределены нормально')"
      ],
      "metadata": {
        "colab": {
          "base_uri": "https://localhost:8080/"
        },
        "id": "LnZSoUq6g-Ew",
        "outputId": "399efa32-555b-40ad-9e2b-ad620c866bc6"
      },
      "execution_count": 5,
      "outputs": [
        {
          "output_type": "stream",
          "name": "stdout",
          "text": [
            "ShapiroResult(statistic=np.float64(0.5661743990747901), pvalue=np.float64(1.3226678648552306e-101))\n",
            "Отвергаем нулевую гипотезу о нормальном распределении данных\n"
          ]
        },
        {
          "output_type": "stream",
          "name": "stderr",
          "text": [
            "/usr/local/lib/python3.11/dist-packages/scipy/stats/_axis_nan_policy.py:586: UserWarning: scipy.stats.shapiro: For N > 5000, computed p-value may not be accurate. Current N is 13312.\n",
            "  res = hypotest_fun_out(*samples, **kwds)\n"
          ]
        }
      ]
    },
    {
      "cell_type": "code",
      "source": [
        "shapiro_test_single = st.shapiro(single['stream'])\n",
        "print(shapiro_test_single)\n",
        "if shapiro_test_single.pvalue < alpha:\n",
        "    print('Отвергаем нулевую гипотезу о нормальном распределении данных')\n",
        "else:\n",
        "    print('Не получилось отвергнуть нулевую гипотезу. Данные распределены нормально')"
      ],
      "metadata": {
        "colab": {
          "base_uri": "https://localhost:8080/"
        },
        "id": "iZH9u-WmhAvN",
        "outputId": "620a8362-a31d-4bbf-c2e0-9f58b42afb85"
      },
      "execution_count": 6,
      "outputs": [
        {
          "output_type": "stream",
          "name": "stdout",
          "text": [
            "ShapiroResult(statistic=np.float64(0.5072123576654208), pvalue=np.float64(3.945023009314876e-78))\n",
            "Отвергаем нулевую гипотезу о нормальном распределении данных\n"
          ]
        }
      ]
    },
    {
      "cell_type": "code",
      "source": [
        "levene = st.levene(album['stream'], single['stream'])\n",
        "print(levene)\n",
        "if levene.pvalue < alpha:\n",
        "    print('Отвергаем нулевую гипотезу о равенстве дисперсий')\n",
        "else:\n",
        "    print('Не получилось отвергнуть нулевую гипотезу. Дисперсии в двух выборках не имеют значимых различий')"
      ],
      "metadata": {
        "colab": {
          "base_uri": "https://localhost:8080/"
        },
        "id": "lLxQg7qphB-u",
        "outputId": "87bcb2f7-605c-467d-d4c9-58caf896f160"
      },
      "execution_count": 7,
      "outputs": [
        {
          "output_type": "stream",
          "name": "stdout",
          "text": [
            "LeveneResult(statistic=np.float64(102.4185896144263), pvalue=np.float64(5.2128504286125e-24))\n",
            "Отвергаем нулевую гипотезу о равенстве дисперсий\n"
          ]
        }
      ]
    },
    {
      "cell_type": "markdown",
      "source": [
        "Оценка критериев показала, что наши данные не имеют нормального распределения, а их дисперсии не равны, значит, нам нужно использовать непараметрический тест - возьмем критерий Манна-Уитни."
      ],
      "metadata": {
        "id": "8nKJbLiAhD5J"
      }
    },
    {
      "cell_type": "code",
      "source": [
        "results = st.mannwhitneyu(album['stream'], single['stream'])\n",
        "print(results.pvalue)\n",
        "if results.pvalue < alpha:\n",
        "    print('Отвергаем нулевую гипотезу о равенстве числа стримов')\n",
        "else:\n",
        "    print('Не получилось отвергнуть нулевую гипотезу')"
      ],
      "metadata": {
        "colab": {
          "base_uri": "https://localhost:8080/"
        },
        "id": "GKiCoRIGhE46",
        "outputId": "c5a1d4b9-1ac6-48b4-fa36-67431fa5c702"
      },
      "execution_count": 8,
      "outputs": [
        {
          "output_type": "stream",
          "name": "stdout",
          "text": [
            "1.3807501635363662e-123\n",
            "Отвергаем нулевую гипотезу о равенстве числа стримов\n"
          ]
        }
      ]
    },
    {
      "cell_type": "markdown",
      "source": [
        "Критерий Манна-Уитни подтвердил наше предположение о влияние типа альбома на число стримов. Теперь с помощью визуализации посмотрим, действительно ли у альбомных треков число стримов выше."
      ],
      "metadata": {
        "id": "ska9lEXihGfc"
      }
    },
    {
      "cell_type": "code",
      "source": [
        "plt.figure(figsize=(12,4))\n",
        "sns.violinplot(spotify, x='stream', y='album_type', palette='Dark2')\n",
        "plt.show()"
      ],
      "metadata": {
        "colab": {
          "base_uri": "https://localhost:8080/",
          "height": 475
        },
        "id": "UREV-gGHhJmd",
        "outputId": "796d7cce-1560-4883-8ae5-f35529e013a7"
      },
      "execution_count": 9,
      "outputs": [
        {
          "output_type": "stream",
          "name": "stderr",
          "text": [
            "<ipython-input-9-56d90040b7d0>:2: FutureWarning: \n",
            "\n",
            "Passing `palette` without assigning `hue` is deprecated and will be removed in v0.14.0. Assign the `y` variable to `hue` and set `legend=False` for the same effect.\n",
            "\n",
            "  sns.violinplot(spotify, x='stream', y='album_type', palette='Dark2')\n"
          ]
        },
        {
          "output_type": "display_data",
          "data": {
            "text/plain": [
              "<Figure size 1200x400 with 1 Axes>"
            ],
            "image/png": "[encoded data removed]"
          },
          "metadata": {}
        }
      ]
    },
    {
      "cell_type": "code",
      "source": [
        "album['stream'].describe()"
      ],
      "metadata": {
        "colab": {
          "base_uri": "https://localhost:8080/",
          "height": 335
        },
        "id": "Mea5oojThYtM",
        "outputId": "904ee7de-9e38-4b7b-ad30-8c3e87565a93"
      },
      "execution_count": 12,
      "outputs": [
        {
          "output_type": "execute_result",
          "data": {
            "text/plain": [
              "count    1.331200e+04\n",
              "mean     1.579841e+08\n",
              "std      2.677421e+08\n",
              "min      1.669100e+04\n",
              "25%      2.327385e+07\n",
              "50%      6.124073e+07\n",
              "75%      1.643355e+08\n",
              "max      3.386520e+09\n",
              "Name: stream, dtype: float64"
            ],
            "text/html": [
              "<div>\n",
              "<style scoped>\n",
              "    .dataframe tbody tr th:only-of-type {\n",
              "        vertical-align: middle;\n",
              "    }\n",
              "\n",
              "    .dataframe tbody tr th {\n",
              "        vertical-align: top;\n",
              "    }\n",
              "\n",
              "    .dataframe thead th {\n",
              "        text-align: right;\n",
              "    }\n",
              "</style>\n",
              "<table border=\"1\" class=\"dataframe\">\n",
              "  <thead>\n",
              "    <tr style=\"text-align: right;\">\n",
              "      <th></th>\n",
              "      <th>stream</th>\n",
              "    </tr>\n",
              "  </thead>\n",
              "  <tbody>\n",
              "    <tr>\n",
              "      <th>count</th>\n",
              "      <td>1.331200e+04</td>\n",
              "    </tr>\n",
              "    <tr>\n",
              "      <th>mean</th>\n",
              "      <td>1.579841e+08</td>\n",
              "    </tr>\n",
              "    <tr>\n",
              "      <th>std</th>\n",
              "      <td>2.677421e+08</td>\n",
              "    </tr>\n",
              "    <tr>\n",
              "      <th>min</th>\n",
              "      <td>1.669100e+04</td>\n",
              "    </tr>\n",
              "    <tr>\n",
              "      <th>25%</th>\n",
              "      <td>2.327385e+07</td>\n",
              "    </tr>\n",
              "    <tr>\n",
              "      <th>50%</th>\n",
              "      <td>6.124073e+07</td>\n",
              "    </tr>\n",
              "    <tr>\n",
              "      <th>75%</th>\n",
              "      <td>1.643355e+08</td>\n",
              "    </tr>\n",
              "    <tr>\n",
              "      <th>max</th>\n",
              "      <td>3.386520e+09</td>\n",
              "    </tr>\n",
              "  </tbody>\n",
              "</table>\n",
              "</div><br><label><b>dtype:</b> float64</label>"
            ]
          },
          "metadata": {},
          "execution_count": 12
        }
      ]
    },
    {
      "cell_type": "code",
      "source": [
        "single['stream'].describe()"
      ],
      "metadata": {
        "colab": {
          "base_uri": "https://localhost:8080/",
          "height": 335
        },
        "id": "PX5Iz8D1hiMn",
        "outputId": "ae3fdd66-22a7-48c8-fa76-2ecde2892bc9"
      },
      "execution_count": 13,
      "outputs": [
        {
          "output_type": "execute_result",
          "data": {
            "text/plain": [
              "count    4.656000e+03\n",
              "mean     1.028792e+08\n",
              "std      2.014803e+08\n",
              "min      6.574000e+03\n",
              "25%      9.244702e+06\n",
              "50%      3.330787e+07\n",
              "75%      1.004736e+08\n",
              "max      2.456205e+09\n",
              "Name: stream, dtype: float64"
            ],
            "text/html": [
              "<div>\n",
              "<style scoped>\n",
              "    .dataframe tbody tr th:only-of-type {\n",
              "        vertical-align: middle;\n",
              "    }\n",
              "\n",
              "    .dataframe tbody tr th {\n",
              "        vertical-align: top;\n",
              "    }\n",
              "\n",
              "    .dataframe thead th {\n",
              "        text-align: right;\n",
              "    }\n",
              "</style>\n",
              "<table border=\"1\" class=\"dataframe\">\n",
              "  <thead>\n",
              "    <tr style=\"text-align: right;\">\n",
              "      <th></th>\n",
              "      <th>stream</th>\n",
              "    </tr>\n",
              "  </thead>\n",
              "  <tbody>\n",
              "    <tr>\n",
              "      <th>count</th>\n",
              "      <td>4.656000e+03</td>\n",
              "    </tr>\n",
              "    <tr>\n",
              "      <th>mean</th>\n",
              "      <td>1.028792e+08</td>\n",
              "    </tr>\n",
              "    <tr>\n",
              "      <th>std</th>\n",
              "      <td>2.014803e+08</td>\n",
              "    </tr>\n",
              "    <tr>\n",
              "      <th>min</th>\n",
              "      <td>6.574000e+03</td>\n",
              "    </tr>\n",
              "    <tr>\n",
              "      <th>25%</th>\n",
              "      <td>9.244702e+06</td>\n",
              "    </tr>\n",
              "    <tr>\n",
              "      <th>50%</th>\n",
              "      <td>3.330787e+07</td>\n",
              "    </tr>\n",
              "    <tr>\n",
              "      <th>75%</th>\n",
              "      <td>1.004736e+08</td>\n",
              "    </tr>\n",
              "    <tr>\n",
              "      <th>max</th>\n",
              "      <td>2.456205e+09</td>\n",
              "    </tr>\n",
              "  </tbody>\n",
              "</table>\n",
              "</div><br><label><b>dtype:</b> float64</label>"
            ]
          },
          "metadata": {},
          "execution_count": 13
        }
      ]
    },
    {
      "cell_type": "code",
      "source": [
        "plt.subplot(1, 2, 1)\n",
        "sns.histplot(data=album, x=\"stream\")\n",
        "plt.title('Album')\n",
        "plt.xlim(0, 1000000000)\n",
        "\n",
        "y1 = plt.gca().get_ylim()[1]\n",
        "\n",
        "plt.subplot(1, 2, 2)\n",
        "sns.histplot(data=single, x=\"stream\")\n",
        "plt.title('Single')\n",
        "plt.xlim(0, 1000000000)\n",
        "\n",
        "plt.ylim(0, y1)\n",
        "\n",
        "plt.subplots_adjust(wspace=0.5)\n",
        "\n",
        "plt.show()"
      ],
      "metadata": {
        "colab": {
          "base_uri": "https://localhost:8080/",
          "height": 472
        },
        "id": "If5yrTizhLBe",
        "outputId": "c3b59845-0f9c-49f2-ad35-ab6d682dceb8"
      },
      "execution_count": 10,
      "outputs": [
        {
          "output_type": "display_data",
          "data": {
            "text/plain": [
              "<Figure size 640x480 with 2 Axes>"
            ],
            "image/png": "[encoded data removed]"
          },
          "metadata": {}
        }
      ]
    },
    {
      "cell_type": "markdown",
      "source": [
        "Мы видим, что у альбомных треков медианное значение числа стримов выше, чем у синглов, также у них шире диапазон значений для целевой переменной. А гистограммы помогают понять, что при увеличении числа стримов количество треков у синглов снижается быстрее, чем у альбомных треков."
      ],
      "metadata": {
        "id": "0HDs7F6uhHx_"
      }
    },
    {
      "cell_type": "markdown",
      "source": [
        "**Вывод:** Критерий Манна-Уитни подтвердил наше предположение о том, что на число стримов влияет тип альбома (альбомный трек или сингл). А визуализация показала, что мы можем говорить про более высокие показатели числа стримов у альбомных треков."
      ],
      "metadata": {
        "id": "DbpKWbYqhSDB"
      }
    }
  ]
}